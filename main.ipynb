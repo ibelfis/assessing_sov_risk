{
 "cells": [
  {
   "cell_type": "markdown",
   "metadata": {},
   "source": [
    "## Récupération données WB\n",
    "\n",
    "### Data"
   ]
  },
  {
   "cell_type": "code",
   "execution_count": 46,
   "metadata": {},
   "outputs": [],
   "source": [
    "import pandas as pd\n",
    "import numpy as np"
   ]
  },
  {
   "cell_type": "markdown",
   "metadata": {},
   "source": [
    "Paramètres : "
   ]
  },
  {
   "cell_type": "code",
   "execution_count": 47,
   "metadata": {},
   "outputs": [],
   "source": [
    "first_year = 2004\n",
    "\n",
    "country_list=[\"BEN\",\"BFA\"] #[\"BEN\",\"BFA\",\"CAN\",\"CHE\",\"DEU\",\"HTI\",\"MLI\",\"NOR\",\"SEN\"]\n",
    "indic_list=[\"PV.EST\",\"GE.EST\"] #[\"PV.EST\",\"GE.EST\",\"IQ.CPA.FINQ.XQ\",\"IQ.CPA.DEBT.XQ\"]"
   ]
  },
  {
   "cell_type": "markdown",
   "metadata": {},
   "source": [
    "Processing :"
   ]
  },
  {
   "cell_type": "code",
   "execution_count": 50,
   "metadata": {},
   "outputs": [
    {
     "data": {
      "text/plain": [
       "array([[-0.6529879 ,  0.44974628],\n",
       "       [-0.64701253,  0.54789257],\n",
       "       [-0.54374969,  0.38621762],\n",
       "       [-0.49289379,  0.37642136],\n",
       "       [-0.59506071,  0.40366668],\n",
       "       [-0.60990387,  0.26126012],\n",
       "       [-0.54713935,  0.31835636],\n",
       "       [-0.52674651,  0.3643676 ],\n",
       "       [-0.50852346,  0.30118936],\n",
       "       [-0.48498344,  0.02713976],\n",
       "       [-0.68148828, -0.02049642],\n",
       "       [-0.62491918, -0.0087835 ],\n",
       "       [-0.69779992,  0.02625189],\n",
       "       [-0.63140035, -0.14707476],\n",
       "       [-0.49051583, -0.42025951],\n",
       "       [-0.29078072, -0.44308379],\n",
       "       [-0.23767088, -0.39634779],\n",
       "       [-0.164296  , -0.34946138],\n",
       "       [-0.60489899, -0.06265292],\n",
       "       [-0.80056357,  0.15579955],\n",
       "       [-0.77000624,  0.30700868],\n",
       "       [-0.53028399,  0.1187246 ],\n",
       "       [-0.61746973,  0.03404029],\n",
       "       [-0.58909571, -0.11763714],\n",
       "       [-0.56824374, -0.55538148],\n",
       "       [-0.63236839, -0.57312924],\n",
       "       [-0.6691156 , -0.76339012],\n",
       "       [-0.59144777, -0.78712857],\n",
       "       [-0.69087619, -0.60912734],\n",
       "       [-0.63780808, -0.8687107 ],\n",
       "       [-0.63903302, -0.92788559],\n",
       "       [-0.64393878, -1.06025648],\n",
       "       [-0.77835816, -1.30215323],\n",
       "       [-0.7078743 , -1.53794134],\n",
       "       [-0.76396149, -1.64286971],\n",
       "       [-0.82515538, -1.78251743]])"
      ]
     },
     "execution_count": 50,
     "metadata": {},
     "output_type": "execute_result"
    }
   ],
   "source": [
    "\n",
    "df = pd.read_csv('data/raw_data.csv')\n",
    "\n",
    "\n",
    "selected_countries = df.loc[df['Country Code'].isin(country_list)]\n",
    "selected_countries_indicators = selected_countries.loc[selected_countries['Indicator Code'].isin(indic_list)]\n",
    "\n",
    "selected_countries_indicators = selected_countries_indicators.drop(['Country Name','Indicator Name'], axis=1)\n",
    "\n",
    "selected_countries_indicators = selected_countries_indicators.drop(selected_countries_indicators.columns[-1], axis=1)\n",
    "\n",
    "df_melted = pd.melt(selected_countries_indicators, id_vars=['Country Code',\"Indicator Code\"], var_name='Date', value_name=\"Value\")\n",
    "\n",
    "contries_date_indic = df_melted.pivot(index=['Country Code', 'Date'], columns='Indicator Code', values='Value').reset_index()\n",
    "\n",
    "contries_date_indic['Date'] = pd.to_numeric(contries_date_indic['Date'])\n",
    "contries_date_indic = contries_date_indic[contries_date_indic['Date'] > first_year]\n",
    "\n",
    "contries_date_indic.columns.name = None\n",
    "\n",
    "contries_date_indic = contries_date_indic.drop(['Country Code','Date'], axis=1)\n",
    "\n",
    "data=contries_date_indic.to_numpy()\n",
    "data\n",
    "\n"
   ]
  },
  {
   "cell_type": "markdown",
   "metadata": {},
   "source": [
    "### Target: using the CPIA debt policy rating (10=low to 60=high), _IQ.CPA.DEBT.XQ_"
   ]
  },
  {
   "cell_type": "code",
   "execution_count": 59,
   "metadata": {},
   "outputs": [
    {
     "data": {
      "text/plain": [
       "array([35, 35, 35, 35, 35, 35, 35, 40, 40, 40, 40, 40, 40, 40, 45, 45, 45,\n",
       "       45, 45, 40, 40, 40, 40, 40, 40, 40, 40, 40, 40, 40, 40, 40, 40, 40,\n",
       "       40, 40])"
      ]
     },
     "execution_count": 59,
     "metadata": {},
     "output_type": "execute_result"
    }
   ],
   "source": [
    "target=\"IQ.CPA.DEBT.XQ\"\n",
    "\n",
    "\n",
    "selected_countries_indicators = selected_countries.loc[selected_countries['Indicator Code']==target]\n",
    "selected_countries_indicators = selected_countries_indicators.drop(['Country Name','Indicator Name'], axis=1)\n",
    "selected_countries_indicators = selected_countries_indicators.drop(selected_countries_indicators.columns[-1], axis=1)\n",
    "df_melted = pd.melt(selected_countries_indicators, id_vars=['Country Code',\"Indicator Code\"], var_name='Date', value_name=\"Value\")\n",
    "df_target = df_melted.pivot(index=['Country Code', 'Date'], columns='Indicator Code', values='Value').reset_index()\n",
    "df_target['Date'] = pd.to_numeric(df_target['Date'])\n",
    "df_target = df_target[df_target['Date'] > first_year]\n",
    "df_target.columns.name = None\n",
    "df_target = df_target.drop(['Country Code','Date'], axis=1)\n",
    "\n",
    "target = (df_target.values * 10).ravel().astype(int)\n",
    "target"
   ]
  },
  {
   "cell_type": "markdown",
   "metadata": {},
   "source": [
    "Exemple :"
   ]
  },
  {
   "cell_type": "code",
   "execution_count": 66,
   "metadata": {},
   "outputs": [],
   "source": [
    "import matplotlib.pyplot as plt"
   ]
  },
  {
   "cell_type": "code",
   "execution_count": 67,
   "metadata": {},
   "outputs": [
    {
     "data": {
      "image/png": "[encoded data removed]",
      "text/plain": [
       "<Figure size 432x288 with 1 Axes>"
      ]
     },
     "metadata": {
      "needs_background": "light"
     },
     "output_type": "display_data"
    }
   ],
   "source": [
    "_, ax = plt.subplots()\n",
    "scatter = ax.scatter(data[:, 0], data[:, 1], c=target)\n",
    "ax.set(xlabel=\"Political Stability and Absence of Violence/Terrorism: Estimate\", ylabel=\"Government Effectiveness: Estimate\")\n",
    "_ = ax.legend(scatter.legend_elements()[0], [35,40,45], loc=\"lower right\", title=\"CPIA debt policy rating\")\n",
    "plt.show()"
   ]
  },
  {
   "cell_type": "markdown",
   "metadata": {},
   "source": [
    "## First approach of decision tree with SK"
   ]
  },
  {
   "cell_type": "code",
   "execution_count": 68,
   "metadata": {},
   "outputs": [],
   "source": [
    "#Importation des modules nécessaires\n",
    "import sklearn\n",
    "from sklearn.tree import DecisionTreeClassifier, plot_tree\n"
   ]
  },
  {
   "cell_type": "code",
   "execution_count": 69,
   "metadata": {},
   "outputs": [
    {
     "data": {
      "text/plain": [
       "DecisionTreeClassifier(max_depth=3)"
      ]
     },
     "execution_count": 69,
     "metadata": {},
     "output_type": "execute_result"
    }
   ],
   "source": [
    "#Déclaration de l'arbre de décision\n",
    "clf = DecisionTreeClassifier(max_depth=3)\n",
    "\n",
    "#Entrainement de l'abre de décision \n",
    "clf.fit(data, target)\n",
    "\n",
    "\n"
   ]
  },
  {
   "cell_type": "code",
   "execution_count": 71,
   "metadata": {},
   "outputs": [
    {
     "data": {
      "text/plain": [
       "[Text(0.625, 0.875, 'X[1] <= 0.37\\ngini = 0.498\\nsamples = 36\\nvalue = [7, 24, 5]'),\n",
       " Text(0.5, 0.625, 'X[0] <= -0.5\\ngini = 0.37\\nsamples = 31\\nvalue = [2, 24, 5]'),\n",
       " Text(0.25, 0.375, 'X[1] <= 0.209\\ngini = 0.21\\nsamples = 26\\nvalue = [2, 23, 1]'),\n",
       " Text(0.125, 0.125, 'gini = 0.091\\nsamples = 21\\nvalue = [0, 20, 1]'),\n",
       " Text(0.375, 0.125, 'gini = 0.48\\nsamples = 5\\nvalue = [2, 3, 0]'),\n",
       " Text(0.75, 0.375, 'X[1] <= -0.161\\ngini = 0.32\\nsamples = 5\\nvalue = [0, 1, 4]'),\n",
       " Text(0.625, 0.125, 'gini = 0.0\\nsamples = 4\\nvalue = [0, 0, 4]'),\n",
       " Text(0.875, 0.125, 'gini = 0.0\\nsamples = 1\\nvalue = [0, 1, 0]'),\n",
       " Text(0.75, 0.625, 'gini = 0.0\\nsamples = 5\\nvalue = [5, 0, 0]')]"
      ]
     },
     "execution_count": 71,
     "metadata": {},
     "output_type": "execute_result"
    },
    {
     "data": {
      "image/png": "[encoded data removed]",
      "text/plain": [
       "<Figure size 432x288 with 1 Axes>"
      ]
     },
     "metadata": {
      "needs_background": "light"
     },
     "output_type": "display_data"
    }
   ],
   "source": [
    "plot_tree(clf)\n"
   ]
  },
  {
   "cell_type": "code",
   "execution_count": null,
   "metadata": {},
   "outputs": [],
   "source": [
    "dot_data = export_graphviz(clf, out_file=None, feature_names=iris.feature_names, class_names=iris.target_names, filled=True, rounded=True, special_characters=True)  \n",
    "graph = graphviz.Source(dot_data)  "
   ]
  }
 ],
 "metadata": {
  "kernelspec": {
   "display_name": "base",
   "language": "python",
   "name": "python3"
  },
  "language_info": {
   "codemirror_mode": {
    "name": "ipython",
    "version": 3
   },
   "file_extension": ".py",
   "mimetype": "text/x-python",
   "name": "python",
   "nbconvert_exporter": "python",
   "pygments_lexer": "ipython3",
   "version": "3.9.12"
  }
 },
 "nbformat": 4,
 "nbformat_minor": 2
}
